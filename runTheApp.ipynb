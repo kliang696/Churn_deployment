{
 "cells": [
  {
   "cell_type": "code",
   "execution_count": 1,
   "metadata": {},
   "outputs": [
    {
     "name": "stdout",
     "output_type": "stream",
     "text": [
      "/Users/kaiyuanliang/opt/anaconda3/lib/python3.9/site-packages/xgboost/compat.py:36: FutureWarning: pandas.Int64Index is deprecated and will be removed from pandas in a future version. Use pandas.Index with the appropriate dtype instead.\n",
      "  from pandas import MultiIndex, Int64Index\n",
      "[20:11:53] WARNING: /var/folders/sy/f16zz6x50xz3113nwtb9bvq00000gp/T/abs_44tbtwf8c1/croots/recipe/xgboost-split_1659548960882/work/src/learner.cc:854: Loading model from XGBoost < 1.0.0, consider saving it again for improved compatibility\n",
      " * Serving Flask app \"app\" (lazy loading)\n",
      " * Environment: production\n",
      "\u001b[31m   WARNING: This is a development server. Do not use it in a production deployment.\u001b[0m\n",
      "\u001b[2m   Use a production WSGI server instead.\u001b[0m\n",
      " * Debug mode: on\n",
      " * Running on http://127.0.0.1:5000/ (Press CTRL+C to quit)\n",
      " * Restarting with watchdog (fsevents)\n",
      "/Users/kaiyuanliang/opt/anaconda3/lib/python3.9/site-packages/xgboost/compat.py:36: FutureWarning: pandas.Int64Index is deprecated and will be removed from pandas in a future version. Use pandas.Index with the appropriate dtype instead.\n",
      "  from pandas import MultiIndex, Int64Index\n",
      "[20:11:54] WARNING: /var/folders/sy/f16zz6x50xz3113nwtb9bvq00000gp/T/abs_44tbtwf8c1/croots/recipe/xgboost-split_1659548960882/work/src/learner.cc:854: Loading model from XGBoost < 1.0.0, consider saving it again for improved compatibility\n",
      " * Debugger is active!\n",
      " * Debugger PIN: 131-709-780\n",
      "127.0.0.1 - - [04/Apr/2023 20:11:57] \"GET / HTTP/1.1\" 200 -\n",
      "127.0.0.1 - - [04/Apr/2023 20:11:57] \"GET /static/css/style.css HTTP/1.1\" 200 -\n",
      "127.0.0.1 - - [04/Apr/2023 20:11:57] \"\u001b[33mGET /favicon.ico HTTP/1.1\u001b[0m\" 404 -\n",
      "127.0.0.1 - - [04/Apr/2023 20:12:08] \"\u001b[31m\u001b[1mPOST /predict HTTP/1.1\u001b[0m\" 405 -\n",
      " * Detected change in '/Users/kaiyuanliang/Desktop/Flask/app.py', reloading\n",
      " * Detected change in '/Users/kaiyuanliang/Desktop/Flask/app.py', reloading\n",
      " * Restarting with watchdog (fsevents)\n"
     ]
    }
   ],
   "source": [
    "!python ./app.py"
   ]
  },
  {
   "cell_type": "code",
   "execution_count": null,
   "metadata": {},
   "outputs": [],
   "source": [
    "# !flask run -h localhost -p 1300"
   ]
  }
 ],
 "metadata": {
  "kernelspec": {
   "display_name": "Python 3",
   "language": "python",
   "name": "python3"
  },
  "language_info": {
   "codemirror_mode": {
    "name": "ipython",
    "version": 3
   },
   "file_extension": ".py",
   "mimetype": "text/x-python",
   "name": "python",
   "nbconvert_exporter": "python",
   "pygments_lexer": "ipython3",
   "version": "3.9.13"
  },
  "vscode": {
   "interpreter": {
    "hash": "aee8b7b246df8f9039afb4144a1f6fd8d2ca17a180786b69acc140d282b71a49"
   }
  }
 },
 "nbformat": 4,
 "nbformat_minor": 4
}
